{
 "cells": [
  {
   "cell_type": "code",
   "execution_count": 6,
   "metadata": {},
   "outputs": [],
   "source": [
    "from ml_theory_tools.src.ml_theory_tools.hessian import eigen"
   ]
  },
  {
   "cell_type": "code",
   "execution_count": null,
   "metadata": {},
   "outputs": [],
   "source": [
    "from models import get_wide_res_net\n",
    "from data_util import get_cifar10\n",
    "from torch.nn import CrossEntropyLoss\n",
    "\n",
    "model = get_wide_res_net(16, 4, 0.3, 100)\n",
    "train_loader, val_loader, test_loader, augmentation = get_cifar10()\n",
    "\n",
    "eigen(5, model, train_loader, CrossEntropyLoss(), \"experiment_results_from_eddie/cifar10_wide16/baseline/6878/final_weights.pt\")"
   ]
  }
 ],
 "metadata": {
  "kernelspec": {
   "display_name": "base",
   "language": "python",
   "name": "python3"
  },
  "language_info": {
   "codemirror_mode": {
    "name": "ipython",
    "version": 3
   },
   "file_extension": ".py",
   "mimetype": "text/x-python",
   "name": "python",
   "nbconvert_exporter": "python",
   "pygments_lexer": "ipython3",
   "version": "3.11.8"
  }
 },
 "nbformat": 4,
 "nbformat_minor": 2
}
